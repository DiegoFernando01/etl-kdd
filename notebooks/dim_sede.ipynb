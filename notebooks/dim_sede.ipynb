{
 "cells": [
  {
   "cell_type": "markdown",
   "metadata": {},
   "source": [
    "# Dimensión sede"
   ]
  },
  {
   "cell_type": "code",
   "execution_count": 24,
   "metadata": {},
   "outputs": [],
   "source": [
    "import pandas as pd\n",
    "import yaml\n",
    "from sqlalchemy import create_engine\n",
    "from datetime import date"
   ]
  },
  {
   "cell_type": "markdown",
   "metadata": {},
   "source": [
    "### Conexión con la base de datos"
   ]
  },
  {
   "cell_type": "code",
   "execution_count": 25,
   "metadata": {},
   "outputs": [],
   "source": [
    "with open('../config.yml', 'r') as f:\n",
    "  config = yaml.safe_load(f)\n",
    "  config_oltp = config['fuente']\n",
    "  config_olap = config['bodega']\n",
    "\n",
    "url_oltp = (f\"{config_oltp['drivername']}://{config_oltp['user']}:{config_oltp['password']}@{config_oltp['host']}:\"f\"{config_oltp['port']}/{config_oltp['dbname']}\")\n",
    "url_olap = (f\"{config_olap['drivername']}://{config_olap['user']}:{config_olap['password']}@{config_olap['host']}:\"f\"{config_olap['port']}/{config_olap['dbname']}\")\n",
    "#print(url_oltp)\n",
    "#print(url_olap)\n",
    "oltp_conn = create_engine(url_oltp)\n",
    "olap_conn = create_engine(url_olap)"
   ]
  },
  {
   "cell_type": "markdown",
   "metadata": {},
   "source": [
    "### Módulo de extracción"
   ]
  },
  {
   "cell_type": "code",
   "execution_count": null,
   "metadata": {},
   "outputs": [],
   "source": [
    "table_sede = pd.read_sql_table('sede', oltp_conn)\n",
    "table_ciudad = pd.read_sql_table('ciudad', oltp_conn)\n",
    "table_departamento = pd.read_sql_table('departamento', oltp_conn)"
   ]
  },
  {
   "cell_type": "markdown",
   "metadata": {},
   "source": [
    "### Módulo de transformación"
   ]
  },
  {
   "cell_type": "code",
   "execution_count": null,
   "metadata": {},
   "outputs": [
    {
     "data": {
      "text/html": [
       "<div>\n",
       "<style scoped>\n",
       "    .dataframe tbody tr th:only-of-type {\n",
       "        vertical-align: middle;\n",
       "    }\n",
       "\n",
       "    .dataframe tbody tr th {\n",
       "        vertical-align: top;\n",
       "    }\n",
       "\n",
       "    .dataframe thead th {\n",
       "        text-align: right;\n",
       "    }\n",
       "</style>\n",
       "<table border=\"1\" class=\"dataframe\">\n",
       "  <thead>\n",
       "    <tr style=\"text-align: right;\">\n",
       "      <th></th>\n",
       "      <th>sede_id</th>\n",
       "      <th>nombre_sede</th>\n",
       "      <th>direccion</th>\n",
       "      <th>telefono</th>\n",
       "      <th>nombre_contacto</th>\n",
       "      <th>ciudad</th>\n",
       "      <th>departamento</th>\n",
       "    </tr>\n",
       "  </thead>\n",
       "  <tbody>\n",
       "    <tr>\n",
       "      <th>14</th>\n",
       "      <td>1</td>\n",
       "      <td>Sede principal - Cliente1</td>\n",
       "      <td>Los angeles distrito Latino</td>\n",
       "      <td>310-70000</td>\n",
       "      <td>JUAN PEREZ</td>\n",
       "      <td>CALI</td>\n",
       "      <td>VALLE DEL CAUCA</td>\n",
       "    </tr>\n",
       "    <tr>\n",
       "      <th>15</th>\n",
       "      <td>2</td>\n",
       "      <td>sede aux - cliente 1</td>\n",
       "      <td>Los angeles distrito Latino</td>\n",
       "      <td>310-70000</td>\n",
       "      <td>JUAN PEREZ</td>\n",
       "      <td>CALI</td>\n",
       "      <td>VALLE DEL CAUCA</td>\n",
       "    </tr>\n",
       "    <tr>\n",
       "      <th>49</th>\n",
       "      <td>3</td>\n",
       "      <td>TORRES DE MARACAIBO</td>\n",
       "      <td>Los angeles distrito Latino</td>\n",
       "      <td>310-70000</td>\n",
       "      <td>JUAN PEREZ</td>\n",
       "      <td>CALI</td>\n",
       "      <td>VALLE DEL CAUCA</td>\n",
       "    </tr>\n",
       "    <tr>\n",
       "      <th>50</th>\n",
       "      <td>4</td>\n",
       "      <td>INGENIO</td>\n",
       "      <td>Los angeles distrito Latino</td>\n",
       "      <td>310-70000</td>\n",
       "      <td>JUAN PEREZ</td>\n",
       "      <td>CALI</td>\n",
       "      <td>VALLE DEL CAUCA</td>\n",
       "    </tr>\n",
       "    <tr>\n",
       "      <th>16</th>\n",
       "      <td>5</td>\n",
       "      <td>VASQUEZ COBO</td>\n",
       "      <td>Los angeles distrito Latino</td>\n",
       "      <td>310-70000</td>\n",
       "      <td>JUAN PEREZ</td>\n",
       "      <td>CALI</td>\n",
       "      <td>VALLE DEL CAUCA</td>\n",
       "    </tr>\n",
       "  </tbody>\n",
       "</table>\n",
       "</div>"
      ],
      "text/plain": [
       "    sede_id                nombre_sede                    direccion  \\\n",
       "14        1  Sede principal - Cliente1  Los angeles distrito Latino   \n",
       "15        2       sede aux - cliente 1  Los angeles distrito Latino   \n",
       "49        3        TORRES DE MARACAIBO  Los angeles distrito Latino   \n",
       "50        4                    INGENIO  Los angeles distrito Latino   \n",
       "16        5               VASQUEZ COBO  Los angeles distrito Latino   \n",
       "\n",
       "     telefono nombre_contacto ciudad     departamento  \n",
       "14  310-70000      JUAN PEREZ   CALI  VALLE DEL CAUCA  \n",
       "15  310-70000      JUAN PEREZ   CALI  VALLE DEL CAUCA  \n",
       "49  310-70000      JUAN PEREZ   CALI  VALLE DEL CAUCA  \n",
       "50  310-70000      JUAN PEREZ   CALI  VALLE DEL CAUCA  \n",
       "16  310-70000      JUAN PEREZ   CALI  VALLE DEL CAUCA  "
      ]
     },
     "execution_count": 27,
     "metadata": {},
     "output_type": "execute_result"
    }
   ],
   "source": [
    "table_ciudad = (pd.merge(table_ciudad.rename(columns={'nombre' : 'ciudad'}), table_departamento.rename(columns={'nombre' : 'departamento'}), how='inner')\n",
    "  .drop(columns=['departamento_id']))\n",
    "\n",
    "dimension_sede = (pd.merge(table_sede.rename(columns={'nombre' : 'nombre_sede'}), table_ciudad, \n",
    "  how='inner', left_on='ciudad_id', right_on='ciudad_id')\n",
    "  .drop(columns=['ciudad_id', 'cliente_id'])\n",
    "  .sort_values(by='sede_id'))\n",
    "\n",
    "dimension_sede.head()"
   ]
  },
  {
   "cell_type": "markdown",
   "metadata": {},
   "source": [
    "### Módulo de carga a la bodega de datos"
   ]
  },
  {
   "cell_type": "code",
   "execution_count": 28,
   "metadata": {},
   "outputs": [],
   "source": [
    "dimension_sede.set_index('sede_id', inplace=True)\n",
    "try:\n",
    "  dimension_sede.to_sql('dim_sede', olap_conn, if_exists='replace')\n",
    "except Exception as e:\n",
    "  print(f\"Error al cargar datos: {e}\")"
   ]
  }
 ],
 "metadata": {
  "kernelspec": {
   "display_name": "myenv",
   "language": "python",
   "name": "python3"
  },
  "language_info": {
   "codemirror_mode": {
    "name": "ipython",
    "version": 3
   },
   "file_extension": ".py",
   "mimetype": "text/x-python",
   "name": "python",
   "nbconvert_exporter": "python",
   "pygments_lexer": "ipython3",
   "version": "3.12.6"
  }
 },
 "nbformat": 4,
 "nbformat_minor": 2
}
