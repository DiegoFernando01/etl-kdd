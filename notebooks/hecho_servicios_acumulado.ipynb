{
 "cells": [
  {
   "cell_type": "markdown",
   "metadata": {},
   "source": [
    "# Hecho servicios acumulados"
   ]
  },
  {
   "cell_type": "code",
   "execution_count": 1,
   "metadata": {},
   "outputs": [],
   "source": [
    "from datetime import date\n",
    "from sqlalchemy import create_engine\n",
    "import pandas as pd\n",
    "import numpy as np\n",
    "import holidays\n",
    "import yaml"
   ]
  },
  {
   "cell_type": "markdown",
   "metadata": {},
   "source": [
    "### Conexión con la base de datos"
   ]
  },
  {
   "cell_type": "code",
   "execution_count": 2,
   "metadata": {},
   "outputs": [],
   "source": [
    "with open('../config.yml', 'r') as f:\n",
    "  config = yaml.safe_load(f)\n",
    "  config_oltp = config['fuente']\n",
    "  config_olap = config['bodega']\n",
    "\n",
    "url_oltp = (f\"{config_oltp['drivername']}://{config_oltp['user']}:{config_oltp['password']}@{config_oltp['host']}:\"f\"{config_oltp['port']}/{config_oltp['dbname']}\")\n",
    "url_olap = (f\"{config_olap['drivername']}://{config_olap['user']}:{config_olap['password']}@{config_olap['host']}:\"f\"{config_olap['port']}/{config_olap['dbname']}\")\n",
    "#print(url_oltp)\n",
    "#print(url_olap)\n",
    "oltp_conn = create_engine(url_oltp)\n",
    "olap_conn = create_engine(url_olap)"
   ]
  },
  {
   "cell_type": "markdown",
   "metadata": {},
   "source": [
    "### Módulo de extracción"
   ]
  },
  {
   "cell_type": "code",
   "execution_count": 93,
   "metadata": {},
   "outputs": [
    {
     "data": {
      "text/html": [
       "<div>\n",
       "<style scoped>\n",
       "    .dataframe tbody tr th:only-of-type {\n",
       "        vertical-align: middle;\n",
       "    }\n",
       "\n",
       "    .dataframe tbody tr th {\n",
       "        vertical-align: top;\n",
       "    }\n",
       "\n",
       "    .dataframe thead th {\n",
       "        text-align: right;\n",
       "    }\n",
       "</style>\n",
       "<table border=\"1\" class=\"dataframe\">\n",
       "  <thead>\n",
       "    <tr style=\"text-align: right;\">\n",
       "      <th></th>\n",
       "      <th>id</th>\n",
       "      <th>cliente_id</th>\n",
       "      <th>mensajero_id</th>\n",
       "      <th>ciudad_destino_id</th>\n",
       "      <th>ciudad_origen_id</th>\n",
       "      <th>mensajero2_id</th>\n",
       "      <th>mensajero3_id</th>\n",
       "      <th>id_fecha_iniciado</th>\n",
       "      <th>id_fecha_mensajero</th>\n",
       "      <th>id_fecha_novedad</th>\n",
       "      <th>id_fecha_recogida</th>\n",
       "      <th>id_fecha_entrega</th>\n",
       "      <th>id_fecha_terminado</th>\n",
       "    </tr>\n",
       "  </thead>\n",
       "  <tbody>\n",
       "    <tr>\n",
       "      <th>0</th>\n",
       "      <td>34</td>\n",
       "      <td>5</td>\n",
       "      <td>NaN</td>\n",
       "      <td>1</td>\n",
       "      <td>1</td>\n",
       "      <td>NaN</td>\n",
       "      <td>NaN</td>\n",
       "      <td>123.0</td>\n",
       "      <td>NaN</td>\n",
       "      <td>NaN</td>\n",
       "      <td>NaN</td>\n",
       "      <td>NaN</td>\n",
       "      <td>NaN</td>\n",
       "    </tr>\n",
       "    <tr>\n",
       "      <th>1</th>\n",
       "      <td>35</td>\n",
       "      <td>5</td>\n",
       "      <td>7.0</td>\n",
       "      <td>1</td>\n",
       "      <td>1</td>\n",
       "      <td>NaN</td>\n",
       "      <td>NaN</td>\n",
       "      <td>124.0</td>\n",
       "      <td>125.0</td>\n",
       "      <td>NaN</td>\n",
       "      <td>126.0</td>\n",
       "      <td>195.0</td>\n",
       "      <td>NaN</td>\n",
       "    </tr>\n",
       "    <tr>\n",
       "      <th>2</th>\n",
       "      <td>36</td>\n",
       "      <td>5</td>\n",
       "      <td>NaN</td>\n",
       "      <td>1</td>\n",
       "      <td>1</td>\n",
       "      <td>NaN</td>\n",
       "      <td>NaN</td>\n",
       "      <td>127.0</td>\n",
       "      <td>NaN</td>\n",
       "      <td>NaN</td>\n",
       "      <td>NaN</td>\n",
       "      <td>NaN</td>\n",
       "      <td>NaN</td>\n",
       "    </tr>\n",
       "    <tr>\n",
       "      <th>3</th>\n",
       "      <td>41</td>\n",
       "      <td>5</td>\n",
       "      <td>NaN</td>\n",
       "      <td>1</td>\n",
       "      <td>1</td>\n",
       "      <td>NaN</td>\n",
       "      <td>NaN</td>\n",
       "      <td>138.0</td>\n",
       "      <td>NaN</td>\n",
       "      <td>NaN</td>\n",
       "      <td>NaN</td>\n",
       "      <td>NaN</td>\n",
       "      <td>NaN</td>\n",
       "    </tr>\n",
       "    <tr>\n",
       "      <th>4</th>\n",
       "      <td>42</td>\n",
       "      <td>5</td>\n",
       "      <td>NaN</td>\n",
       "      <td>1</td>\n",
       "      <td>1</td>\n",
       "      <td>NaN</td>\n",
       "      <td>NaN</td>\n",
       "      <td>139.0</td>\n",
       "      <td>NaN</td>\n",
       "      <td>NaN</td>\n",
       "      <td>NaN</td>\n",
       "      <td>NaN</td>\n",
       "      <td>NaN</td>\n",
       "    </tr>\n",
       "  </tbody>\n",
       "</table>\n",
       "</div>"
      ],
      "text/plain": [
       "   id  cliente_id  mensajero_id  ciudad_destino_id  ciudad_origen_id  \\\n",
       "0  34           5           NaN                  1                 1   \n",
       "1  35           5           7.0                  1                 1   \n",
       "2  36           5           NaN                  1                 1   \n",
       "3  41           5           NaN                  1                 1   \n",
       "4  42           5           NaN                  1                 1   \n",
       "\n",
       "   mensajero2_id  mensajero3_id  id_fecha_iniciado  id_fecha_mensajero  \\\n",
       "0            NaN            NaN              123.0                 NaN   \n",
       "1            NaN            NaN              124.0               125.0   \n",
       "2            NaN            NaN              127.0                 NaN   \n",
       "3            NaN            NaN              138.0                 NaN   \n",
       "4            NaN            NaN              139.0                 NaN   \n",
       "\n",
       "   id_fecha_novedad  id_fecha_recogida  id_fecha_entrega  id_fecha_terminado  \n",
       "0               NaN                NaN               NaN                 NaN  \n",
       "1               NaN              126.0             195.0                 NaN  \n",
       "2               NaN                NaN               NaN                 NaN  \n",
       "3               NaN                NaN               NaN                 NaN  \n",
       "4               NaN                NaN               NaN                 NaN  "
      ]
     },
     "execution_count": 93,
     "metadata": {},
     "output_type": "execute_result"
    }
   ],
   "source": [
    "table_servicio = pd.read_sql_table('mensajeria_servicio', oltp_conn)\n",
    "table_estadosservicio = pd.read_sql_table('mensajeria_estadosservicio', oltp_conn)\n",
    "hecho_servicios = table_servicio[['id', 'cliente_id', 'mensajero_id', 'ciudad_destino_id', 'ciudad_origen_id', 'mensajero2_id', 'mensajero3_id']]\n",
    "\n",
    "estados = [\n",
    "  (1, 'id_fecha_iniciado'),\n",
    "  (2, 'id_fecha_mensajero'),\n",
    "  (3, 'id_fecha_novedad'),\n",
    "  (4, 'id_fecha_recogida'),\n",
    "  (5, 'id_fecha_entrega'),\n",
    "  (6, 'id_fecha_terminado')]\n",
    "\n",
    "for estado_id, nombre in estados: # genera todas las llaves con la dimensión fecha \n",
    "  filtered_estados = (\n",
    "    table_estadosservicio[['id', 'estado_id', 'servicio_id']]\n",
    "    .query(f\"estado_id == {estado_id}\")\n",
    "    .rename(columns={'id': nombre})\n",
    "    .drop(columns=['estado_id'])\n",
    "    .drop_duplicates(subset=['servicio_id']))\n",
    "  hecho_servicios = (hecho_servicios\n",
    "    .merge(filtered_estados, how='left', left_on='id', right_on='servicio_id')\n",
    "    .drop(columns=['servicio_id']))\n",
    "\n",
    "hecho_servicios.head()\n",
    "#print(hecho_servicios.shape[0])\n"
   ]
  },
  {
   "cell_type": "markdown",
   "metadata": {},
   "source": [
    "### Módulo de transformación"
   ]
  },
  {
   "cell_type": "markdown",
   "metadata": {},
   "source": [
    "### Módulo de carga a la bodega de datos"
   ]
  }
 ],
 "metadata": {
  "kernelspec": {
   "display_name": "myenv",
   "language": "python",
   "name": "python3"
  },
  "language_info": {
   "codemirror_mode": {
    "name": "ipython",
    "version": 3
   },
   "file_extension": ".py",
   "mimetype": "text/x-python",
   "name": "python",
   "nbconvert_exporter": "python",
   "pygments_lexer": "ipython3",
   "version": "3.12.6"
  }
 },
 "nbformat": 4,
 "nbformat_minor": 2
}
