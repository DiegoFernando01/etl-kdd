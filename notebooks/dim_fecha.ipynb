{
 "cells": [
  {
   "cell_type": "markdown",
   "metadata": {},
   "source": [
    "# Dimensión fecha"
   ]
  },
  {
   "cell_type": "markdown",
   "metadata": {},
   "source": [
    "### Librerías necesarias"
   ]
  },
  {
   "cell_type": "code",
   "execution_count": 1,
   "metadata": {},
   "outputs": [],
   "source": [
    "from datetime import date\n",
    "from sqlalchemy import create_engine\n",
    "import pandas as pd\n",
    "import numpy as np\n",
    "import holidays\n",
    "import yaml"
   ]
  },
  {
   "cell_type": "markdown",
   "metadata": {},
   "source": [
    "### Módulo de extracción"
   ]
  },
  {
   "cell_type": "code",
   "execution_count": 2,
   "metadata": {},
   "outputs": [
    {
     "name": "stdout",
     "output_type": "stream",
     "text": [
      "          date\n",
      "0   2005-01-01\n",
      "1   2005-01-02\n",
      "2   2005-01-03\n",
      "3   2005-01-04\n",
      "4   2005-01-05\n",
      "..         ...\n",
      "361 2005-12-28\n",
      "362 2005-12-29\n",
      "363 2005-12-30\n",
      "364 2005-12-31\n",
      "365 2006-01-01\n",
      "\n",
      "[366 rows x 1 columns]\n"
     ]
    }
   ],
   "source": [
    "# Creación del dataframe\n",
    "dim_fecha = pd.DataFrame({\"date\": pd.date_range(start='1/1/2005', end='1/1/2006', freq='D')})\n",
    "#dim_fecha.head()\n",
    "print(dim_fecha)"
   ]
  },
  {
   "cell_type": "markdown",
   "metadata": {},
   "source": [
    "### Módulo de transformación"
   ]
  },
  {
   "cell_type": "code",
   "execution_count": 3,
   "metadata": {},
   "outputs": [
    {
     "name": "stdout",
     "output_type": "stream",
     "text": [
      "          date  day  month  year  weekday  quarter\n",
      "0   2005-01-01    1      1  2005        5        1\n",
      "1   2005-01-02    2      1  2005        6        1\n",
      "2   2005-01-03    3      1  2005        0        1\n",
      "3   2005-01-04    4      1  2005        1        1\n",
      "4   2005-01-05    5      1  2005        2        1\n",
      "..         ...  ...    ...   ...      ...      ...\n",
      "361 2005-12-28   28     12  2005        2        4\n",
      "362 2005-12-29   29     12  2005        3        4\n",
      "363 2005-12-30   30     12  2005        4        4\n",
      "364 2005-12-31   31     12  2005        5        4\n",
      "365 2006-01-01    1      1  2006        6        1\n",
      "\n",
      "[366 rows x 6 columns]\n"
     ]
    }
   ],
   "source": [
    "dim_fecha[\"day\"] = dim_fecha[\"date\"].dt.day\n",
    "dim_fecha[\"month\"] = dim_fecha[\"date\"].dt.month\n",
    "dim_fecha[\"year\"] = dim_fecha[\"date\"].dt.year\n",
    "dim_fecha[\"weekday\"] = dim_fecha[\"date\"].dt.weekday\n",
    "dim_fecha[\"quarter\"] = dim_fecha[\"date\"].dt.quarter\n",
    "\n",
    "print(dim_fecha)"
   ]
  },
  {
   "cell_type": "code",
   "execution_count": 4,
   "metadata": {},
   "outputs": [
    {
     "name": "stdout",
     "output_type": "stream",
     "text": [
      "          date  day  month  year  weekday  quarter  day_of_year  day_of_month  \\\n",
      "0   2005-01-01    1      1  2005        5        1            1            31   \n",
      "1   2005-01-02    2      1  2005        6        1            2            31   \n",
      "2   2005-01-03    3      1  2005        0        1            3            31   \n",
      "3   2005-01-04    4      1  2005        1        1            4            31   \n",
      "4   2005-01-05    5      1  2005        2        1            5            31   \n",
      "..         ...  ...    ...   ...      ...      ...          ...           ...   \n",
      "361 2005-12-28   28     12  2005        2        4          362            31   \n",
      "362 2005-12-29   29     12  2005        3        4          363            31   \n",
      "363 2005-12-30   30     12  2005        4        4          364            31   \n",
      "364 2005-12-31   31     12  2005        5        4          365            31   \n",
      "365 2006-01-01    1      1  2006        6        1            1            31   \n",
      "\n",
      "    month_str    day_str    date_str  \n",
      "0     January   Saturday  01/01/2005  \n",
      "1     January     Sunday  02/01/2005  \n",
      "2     January     Monday  03/01/2005  \n",
      "3     January    Tuesday  04/01/2005  \n",
      "4     January  Wednesday  05/01/2005  \n",
      "..        ...        ...         ...  \n",
      "361  December  Wednesday  28/12/2005  \n",
      "362  December   Thursday  29/12/2005  \n",
      "363  December     Friday  30/12/2005  \n",
      "364  December   Saturday  31/12/2005  \n",
      "365   January     Sunday  01/01/2006  \n",
      "\n",
      "[366 rows x 11 columns]\n"
     ]
    }
   ],
   "source": [
    "dim_fecha[\"day_of_year\"] = dim_fecha[\"date\"].dt.day_of_year\n",
    "dim_fecha[\"day_of_month\"] = dim_fecha[\"date\"].dt.days_in_month\n",
    "dim_fecha[\"month_str\"] = dim_fecha[\"date\"].dt.month_name()\n",
    "dim_fecha[\"day_str\"] = dim_fecha[\"date\"].dt.day_name()\n",
    "dim_fecha[\"date_str\"] = dim_fecha[\"date\"].dt.strftime(\"%d/%m/%Y\")\n",
    "print(dim_fecha)"
   ]
  },
  {
   "cell_type": "code",
   "execution_count": 5,
   "metadata": {},
   "outputs": [
    {
     "data": {
      "text/html": [
       "<div>\n",
       "<style scoped>\n",
       "    .dataframe tbody tr th:only-of-type {\n",
       "        vertical-align: middle;\n",
       "    }\n",
       "\n",
       "    .dataframe tbody tr th {\n",
       "        vertical-align: top;\n",
       "    }\n",
       "\n",
       "    .dataframe thead th {\n",
       "        text-align: right;\n",
       "    }\n",
       "</style>\n",
       "<table border=\"1\" class=\"dataframe\">\n",
       "  <thead>\n",
       "    <tr style=\"text-align: right;\">\n",
       "      <th></th>\n",
       "      <th>date</th>\n",
       "      <th>day</th>\n",
       "      <th>month</th>\n",
       "      <th>year</th>\n",
       "      <th>weekday</th>\n",
       "      <th>quarter</th>\n",
       "      <th>day_of_year</th>\n",
       "      <th>day_of_month</th>\n",
       "      <th>month_str</th>\n",
       "      <th>day_str</th>\n",
       "      <th>date_str</th>\n",
       "      <th>is_Holiday</th>\n",
       "      <th>holiday</th>\n",
       "      <th>saved</th>\n",
       "      <th>weekend</th>\n",
       "    </tr>\n",
       "  </thead>\n",
       "  <tbody>\n",
       "    <tr>\n",
       "      <th>0</th>\n",
       "      <td>2005-01-01</td>\n",
       "      <td>1</td>\n",
       "      <td>1</td>\n",
       "      <td>2005</td>\n",
       "      <td>5</td>\n",
       "      <td>1</td>\n",
       "      <td>1</td>\n",
       "      <td>31</td>\n",
       "      <td>January</td>\n",
       "      <td>Saturday</td>\n",
       "      <td>01/01/2005</td>\n",
       "      <td>True</td>\n",
       "      <td>Año Nuevo</td>\n",
       "      <td>2024-10-24</td>\n",
       "      <td>True</td>\n",
       "    </tr>\n",
       "    <tr>\n",
       "      <th>1</th>\n",
       "      <td>2005-01-02</td>\n",
       "      <td>2</td>\n",
       "      <td>1</td>\n",
       "      <td>2005</td>\n",
       "      <td>6</td>\n",
       "      <td>1</td>\n",
       "      <td>2</td>\n",
       "      <td>31</td>\n",
       "      <td>January</td>\n",
       "      <td>Sunday</td>\n",
       "      <td>02/01/2005</td>\n",
       "      <td>False</td>\n",
       "      <td>None</td>\n",
       "      <td>2024-10-24</td>\n",
       "      <td>True</td>\n",
       "    </tr>\n",
       "    <tr>\n",
       "      <th>2</th>\n",
       "      <td>2005-01-03</td>\n",
       "      <td>3</td>\n",
       "      <td>1</td>\n",
       "      <td>2005</td>\n",
       "      <td>0</td>\n",
       "      <td>1</td>\n",
       "      <td>3</td>\n",
       "      <td>31</td>\n",
       "      <td>January</td>\n",
       "      <td>Monday</td>\n",
       "      <td>03/01/2005</td>\n",
       "      <td>False</td>\n",
       "      <td>None</td>\n",
       "      <td>2024-10-24</td>\n",
       "      <td>False</td>\n",
       "    </tr>\n",
       "    <tr>\n",
       "      <th>3</th>\n",
       "      <td>2005-01-04</td>\n",
       "      <td>4</td>\n",
       "      <td>1</td>\n",
       "      <td>2005</td>\n",
       "      <td>1</td>\n",
       "      <td>1</td>\n",
       "      <td>4</td>\n",
       "      <td>31</td>\n",
       "      <td>January</td>\n",
       "      <td>Tuesday</td>\n",
       "      <td>04/01/2005</td>\n",
       "      <td>False</td>\n",
       "      <td>None</td>\n",
       "      <td>2024-10-24</td>\n",
       "      <td>False</td>\n",
       "    </tr>\n",
       "    <tr>\n",
       "      <th>4</th>\n",
       "      <td>2005-01-05</td>\n",
       "      <td>5</td>\n",
       "      <td>1</td>\n",
       "      <td>2005</td>\n",
       "      <td>2</td>\n",
       "      <td>1</td>\n",
       "      <td>5</td>\n",
       "      <td>31</td>\n",
       "      <td>January</td>\n",
       "      <td>Wednesday</td>\n",
       "      <td>05/01/2005</td>\n",
       "      <td>False</td>\n",
       "      <td>None</td>\n",
       "      <td>2024-10-24</td>\n",
       "      <td>False</td>\n",
       "    </tr>\n",
       "  </tbody>\n",
       "</table>\n",
       "</div>"
      ],
      "text/plain": [
       "        date  day  month  year  weekday  quarter  day_of_year  day_of_month  \\\n",
       "0 2005-01-01    1      1  2005        5        1            1            31   \n",
       "1 2005-01-02    2      1  2005        6        1            2            31   \n",
       "2 2005-01-03    3      1  2005        0        1            3            31   \n",
       "3 2005-01-04    4      1  2005        1        1            4            31   \n",
       "4 2005-01-05    5      1  2005        2        1            5            31   \n",
       "\n",
       "  month_str    day_str    date_str  is_Holiday    holiday       saved  weekend  \n",
       "0   January   Saturday  01/01/2005        True  Año Nuevo  2024-10-24     True  \n",
       "1   January     Sunday  02/01/2005       False       None  2024-10-24     True  \n",
       "2   January     Monday  03/01/2005       False       None  2024-10-24    False  \n",
       "3   January    Tuesday  04/01/2005       False       None  2024-10-24    False  \n",
       "4   January  Wednesday  05/01/2005       False       None  2024-10-24    False  "
      ]
     },
     "execution_count": 5,
     "metadata": {},
     "output_type": "execute_result"
    }
   ],
   "source": [
    "co_holidays = holidays.CO(language=\"es\")\n",
    "dim_fecha[\"is_Holiday\"] = dim_fecha[\"date\"].apply(lambda x:  x in co_holidays)\n",
    "dim_fecha[\"holiday\"] = dim_fecha[\"date\"].apply(lambda x: co_holidays.get(x))\n",
    "dim_fecha[\"saved\"] = date.today()\n",
    "dim_fecha[\"weekend\"] = dim_fecha[\"weekday\"].apply(lambda x: x>4)\n",
    "dim_fecha.head()"
   ]
  },
  {
   "cell_type": "markdown",
   "metadata": {},
   "source": [
    "### Módulo de carga a la bodega de datos"
   ]
  },
  {
   "cell_type": "code",
   "execution_count": 6,
   "metadata": {},
   "outputs": [],
   "source": [
    "with open('../config.yml', 'r') as f:\n",
    "  config = yaml.safe_load(f)\n",
    "  config_oltp = config['fuente']\n",
    "  config_olap = config['bodega']\n",
    "\n",
    "url_oltp = (f\"{config_oltp['drivername']}://{config_oltp['user']}:{config_oltp['password']}@{config_oltp['host']}:\"f\"{config_oltp['port']}/{config_oltp['dbname']}\")\n",
    "url_olap = (f\"{config_olap['drivername']}://{config_olap['user']}:{config_olap['password']}@{config_olap['host']}:\"f\"{config_olap['port']}/{config_olap['dbname']}\")\n",
    "#print(url_oltp)\n",
    "#print(url_olap)\n",
    "oltp_conn = create_engine(url_oltp)\n",
    "olap_conn = create_engine(url_olap)"
   ]
  },
  {
   "cell_type": "code",
   "execution_count": 7,
   "metadata": {},
   "outputs": [
    {
     "name": "stdout",
     "output_type": "stream",
     "text": [
      "Conexión establecida y consulta realizada con éxito.\n"
     ]
    }
   ],
   "source": [
    "try: # Realizar una consulta sencilla para verificar la conexión\n",
    "    # Ejecutar una consulta para obtener el nombre de las tablas\n",
    "    tables = pd.read_sql(\"SELECT table_name FROM information_schema.tables WHERE table_schema = 'public';\", olap_conn)\n",
    "    #print(tables)\n",
    "    print(\"Conexión establecida y consulta realizada con éxito.\")\n",
    "except Exception as e:\n",
    "    print(f\"Error al conectar a la base de datos: {e}\")"
   ]
  },
  {
   "cell_type": "code",
   "execution_count": 8,
   "metadata": {},
   "outputs": [
    {
     "data": {
      "text/plain": [
       "366"
      ]
     },
     "execution_count": 8,
     "metadata": {},
     "output_type": "execute_result"
    }
   ],
   "source": [
    "dim_fecha.to_sql('dim_fecha', olap_conn, if_exists='replace',index_label='key_dim_fecha')"
   ]
  }
 ],
 "metadata": {
  "kernelspec": {
   "display_name": "myenv",
   "language": "python",
   "name": "python3"
  },
  "language_info": {
   "codemirror_mode": {
    "name": "ipython",
    "version": 3
   },
   "file_extension": ".py",
   "mimetype": "text/x-python",
   "name": "python",
   "nbconvert_exporter": "python",
   "pygments_lexer": "ipython3",
   "version": "3.12.6"
  }
 },
 "nbformat": 4,
 "nbformat_minor": 2
}
