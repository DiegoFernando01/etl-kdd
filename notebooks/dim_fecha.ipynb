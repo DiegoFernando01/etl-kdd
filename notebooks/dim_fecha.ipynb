{
 "cells": [
  {
   "cell_type": "markdown",
   "metadata": {},
   "source": [
    "# Dimensión fecha"
   ]
  },
  {
   "cell_type": "markdown",
   "metadata": {},
   "source": [
    "### Librerías necesarias"
   ]
  },
  {
   "cell_type": "code",
   "execution_count": 103,
   "metadata": {},
   "outputs": [
    {
     "data": {
      "text/plain": [
       "'es_ES.UTF-8'"
      ]
     },
     "execution_count": 103,
     "metadata": {},
     "output_type": "execute_result"
    }
   ],
   "source": [
    "from datetime import date\n",
    "from sqlalchemy import create_engine\n",
    "import pandas as pd\n",
    "import numpy as np\n",
    "import holidays\n",
    "import yaml\n",
    "import locale\n",
    "locale.setlocale(locale.LC_TIME, 'es_ES.UTF-8')"
   ]
  },
  {
   "cell_type": "markdown",
   "metadata": {},
   "source": [
    "### Conexión con la base de datos"
   ]
  },
  {
   "cell_type": "code",
   "execution_count": 104,
   "metadata": {},
   "outputs": [],
   "source": [
    "with open('../config.yml', 'r') as f:\n",
    "  config = yaml.safe_load(f)\n",
    "  config_oltp = config['fuente']\n",
    "  config_olap = config['bodega']\n",
    "\n",
    "url_oltp = (f\"{config_oltp['drivername']}://{config_oltp['user']}:{config_oltp['password']}@{config_oltp['host']}:\"f\"{config_oltp['port']}/{config_oltp['dbname']}\")\n",
    "url_olap = (f\"{config_olap['drivername']}://{config_olap['user']}:{config_olap['password']}@{config_olap['host']}:\"f\"{config_olap['port']}/{config_olap['dbname']}\")\n",
    "#print(url_oltp)\n",
    "#print(url_olap)\n",
    "oltp_conn = create_engine(url_oltp)\n",
    "olap_conn = create_engine(url_olap)"
   ]
  },
  {
   "cell_type": "markdown",
   "metadata": {},
   "source": [
    "### Módulo de extracción"
   ]
  },
  {
   "cell_type": "code",
   "execution_count": 105,
   "metadata": {},
   "outputs": [
    {
     "data": {
      "text/plain": [
       "133610"
      ]
     },
     "execution_count": 105,
     "metadata": {},
     "output_type": "execute_result"
    }
   ],
   "source": [
    "table_estadosservicio = pd.read_sql_table('mensajeria_estadosservicio', oltp_conn, columns=['fecha', 'hora'])\n",
    "table_novedadesservicio = pd.read_sql_table('mensajeria_novedadesservicio', oltp_conn, columns=['fecha_novedad'])\n",
    "\n",
    "table_novedadesservicio['fecha'] = table_novedadesservicio['fecha_novedad'].dt.date\n",
    "#table_novedadesservicio['hora'] = table_novedadesservicio['fecha_novedad'].dt.time # intercambiar cambia el formato\n",
    "table_novedadesservicio['hora'] = table_novedadesservicio['fecha_novedad'].dt.strftime('%H:%M:%S') # intercambiar cambiar el formato\n",
    "#table_novedadesservicio.drop(columns=['fecha_novedad'], inplace=True)\n",
    "\n",
    "dimension_fecha = pd.concat([table_estadosservicio, table_novedadesservicio.drop(columns=['fecha_novedad'])]).reset_index(drop=True)\n",
    "dimension_fecha['fecha'] = pd.to_datetime(dimension_fecha['fecha'])\n",
    "dimension_fecha['id'] = dimension_fecha.index\n",
    "dimension_fecha.set_index('id', inplace=True)\n",
    "\n",
    "dimension_fecha.shape[0]\n"
   ]
  },
  {
   "cell_type": "markdown",
   "metadata": {},
   "source": [
    "### Módulo de transformación"
   ]
  },
  {
   "cell_type": "code",
   "execution_count": 106,
   "metadata": {},
   "outputs": [
    {
     "data": {
      "text/html": [
       "<div>\n",
       "<style scoped>\n",
       "    .dataframe tbody tr th:only-of-type {\n",
       "        vertical-align: middle;\n",
       "    }\n",
       "\n",
       "    .dataframe tbody tr th {\n",
       "        vertical-align: top;\n",
       "    }\n",
       "\n",
       "    .dataframe thead th {\n",
       "        text-align: right;\n",
       "    }\n",
       "</style>\n",
       "<table border=\"1\" class=\"dataframe\">\n",
       "  <thead>\n",
       "    <tr style=\"text-align: right;\">\n",
       "      <th></th>\n",
       "      <th>fecha</th>\n",
       "      <th>hora</th>\n",
       "      <th>día</th>\n",
       "      <th>mes</th>\n",
       "      <th>año</th>\n",
       "      <th>día_semana</th>\n",
       "      <th>trimestre</th>\n",
       "    </tr>\n",
       "    <tr>\n",
       "      <th>id</th>\n",
       "      <th></th>\n",
       "      <th></th>\n",
       "      <th></th>\n",
       "      <th></th>\n",
       "      <th></th>\n",
       "      <th></th>\n",
       "      <th></th>\n",
       "    </tr>\n",
       "  </thead>\n",
       "  <tbody>\n",
       "    <tr>\n",
       "      <th>0</th>\n",
       "      <td>2024-01-29</td>\n",
       "      <td>01:13:32</td>\n",
       "      <td>29</td>\n",
       "      <td>1</td>\n",
       "      <td>2024</td>\n",
       "      <td>0</td>\n",
       "      <td>1</td>\n",
       "    </tr>\n",
       "    <tr>\n",
       "      <th>1</th>\n",
       "      <td>2024-01-30</td>\n",
       "      <td>18:45:12</td>\n",
       "      <td>30</td>\n",
       "      <td>1</td>\n",
       "      <td>2024</td>\n",
       "      <td>1</td>\n",
       "      <td>1</td>\n",
       "    </tr>\n",
       "    <tr>\n",
       "      <th>2</th>\n",
       "      <td>2024-02-06</td>\n",
       "      <td>11:34:04</td>\n",
       "      <td>6</td>\n",
       "      <td>2</td>\n",
       "      <td>2024</td>\n",
       "      <td>1</td>\n",
       "      <td>1</td>\n",
       "    </tr>\n",
       "    <tr>\n",
       "      <th>3</th>\n",
       "      <td>2024-02-01</td>\n",
       "      <td>14:50:39</td>\n",
       "      <td>1</td>\n",
       "      <td>2</td>\n",
       "      <td>2024</td>\n",
       "      <td>3</td>\n",
       "      <td>1</td>\n",
       "    </tr>\n",
       "    <tr>\n",
       "      <th>4</th>\n",
       "      <td>2024-04-06</td>\n",
       "      <td>16:11:21</td>\n",
       "      <td>6</td>\n",
       "      <td>4</td>\n",
       "      <td>2024</td>\n",
       "      <td>5</td>\n",
       "      <td>2</td>\n",
       "    </tr>\n",
       "  </tbody>\n",
       "</table>\n",
       "</div>"
      ],
      "text/plain": [
       "        fecha      hora  día  mes   año  día_semana  trimestre\n",
       "id                                                            \n",
       "0  2024-01-29  01:13:32   29    1  2024           0          1\n",
       "1  2024-01-30  18:45:12   30    1  2024           1          1\n",
       "2  2024-02-06  11:34:04    6    2  2024           1          1\n",
       "3  2024-02-01  14:50:39    1    2  2024           3          1\n",
       "4  2024-04-06  16:11:21    6    4  2024           5          2"
      ]
     },
     "execution_count": 106,
     "metadata": {},
     "output_type": "execute_result"
    }
   ],
   "source": [
    "dimension_fecha[\"día\"] = dimension_fecha[\"fecha\"].dt.day\n",
    "dimension_fecha[\"mes\"] = dimension_fecha[\"fecha\"].dt.month\n",
    "dimension_fecha[\"año\"] = dimension_fecha[\"fecha\"].dt.year\n",
    "dimension_fecha[\"día_semana\"] = dimension_fecha[\"fecha\"].dt.weekday\n",
    "dimension_fecha[\"trimestre\"] = dimension_fecha[\"fecha\"].dt.quarter\n",
    "\n",
    "dimension_fecha.head()"
   ]
  },
  {
   "cell_type": "code",
   "execution_count": 107,
   "metadata": {},
   "outputs": [
    {
     "data": {
      "text/html": [
       "<div>\n",
       "<style scoped>\n",
       "    .dataframe tbody tr th:only-of-type {\n",
       "        vertical-align: middle;\n",
       "    }\n",
       "\n",
       "    .dataframe tbody tr th {\n",
       "        vertical-align: top;\n",
       "    }\n",
       "\n",
       "    .dataframe thead th {\n",
       "        text-align: right;\n",
       "    }\n",
       "</style>\n",
       "<table border=\"1\" class=\"dataframe\">\n",
       "  <thead>\n",
       "    <tr style=\"text-align: right;\">\n",
       "      <th></th>\n",
       "      <th>fecha</th>\n",
       "      <th>hora</th>\n",
       "      <th>día</th>\n",
       "      <th>mes</th>\n",
       "      <th>año</th>\n",
       "      <th>día_semana</th>\n",
       "      <th>trimestre</th>\n",
       "      <th>día_del_año</th>\n",
       "      <th>nombre_mes</th>\n",
       "      <th>nombre_día</th>\n",
       "    </tr>\n",
       "    <tr>\n",
       "      <th>id</th>\n",
       "      <th></th>\n",
       "      <th></th>\n",
       "      <th></th>\n",
       "      <th></th>\n",
       "      <th></th>\n",
       "      <th></th>\n",
       "      <th></th>\n",
       "      <th></th>\n",
       "      <th></th>\n",
       "      <th></th>\n",
       "    </tr>\n",
       "  </thead>\n",
       "  <tbody>\n",
       "    <tr>\n",
       "      <th>0</th>\n",
       "      <td>2024-01-29</td>\n",
       "      <td>01:13:32</td>\n",
       "      <td>29</td>\n",
       "      <td>1</td>\n",
       "      <td>2024</td>\n",
       "      <td>0</td>\n",
       "      <td>1</td>\n",
       "      <td>29</td>\n",
       "      <td>enero</td>\n",
       "      <td>lunes</td>\n",
       "    </tr>\n",
       "    <tr>\n",
       "      <th>1</th>\n",
       "      <td>2024-01-30</td>\n",
       "      <td>18:45:12</td>\n",
       "      <td>30</td>\n",
       "      <td>1</td>\n",
       "      <td>2024</td>\n",
       "      <td>1</td>\n",
       "      <td>1</td>\n",
       "      <td>30</td>\n",
       "      <td>enero</td>\n",
       "      <td>martes</td>\n",
       "    </tr>\n",
       "    <tr>\n",
       "      <th>2</th>\n",
       "      <td>2024-02-06</td>\n",
       "      <td>11:34:04</td>\n",
       "      <td>6</td>\n",
       "      <td>2</td>\n",
       "      <td>2024</td>\n",
       "      <td>1</td>\n",
       "      <td>1</td>\n",
       "      <td>37</td>\n",
       "      <td>febrero</td>\n",
       "      <td>martes</td>\n",
       "    </tr>\n",
       "    <tr>\n",
       "      <th>3</th>\n",
       "      <td>2024-02-01</td>\n",
       "      <td>14:50:39</td>\n",
       "      <td>1</td>\n",
       "      <td>2</td>\n",
       "      <td>2024</td>\n",
       "      <td>3</td>\n",
       "      <td>1</td>\n",
       "      <td>32</td>\n",
       "      <td>febrero</td>\n",
       "      <td>jueves</td>\n",
       "    </tr>\n",
       "    <tr>\n",
       "      <th>4</th>\n",
       "      <td>2024-04-06</td>\n",
       "      <td>16:11:21</td>\n",
       "      <td>6</td>\n",
       "      <td>4</td>\n",
       "      <td>2024</td>\n",
       "      <td>5</td>\n",
       "      <td>2</td>\n",
       "      <td>97</td>\n",
       "      <td>abril</td>\n",
       "      <td>sábado</td>\n",
       "    </tr>\n",
       "  </tbody>\n",
       "</table>\n",
       "</div>"
      ],
      "text/plain": [
       "        fecha      hora  día  mes   año  día_semana  trimestre  día_del_año  \\\n",
       "id                                                                            \n",
       "0  2024-01-29  01:13:32   29    1  2024           0          1           29   \n",
       "1  2024-01-30  18:45:12   30    1  2024           1          1           30   \n",
       "2  2024-02-06  11:34:04    6    2  2024           1          1           37   \n",
       "3  2024-02-01  14:50:39    1    2  2024           3          1           32   \n",
       "4  2024-04-06  16:11:21    6    4  2024           5          2           97   \n",
       "\n",
       "   nombre_mes nombre_día  \n",
       "id                        \n",
       "0       enero      lunes  \n",
       "1       enero     martes  \n",
       "2     febrero     martes  \n",
       "3     febrero     jueves  \n",
       "4       abril     sábado  "
      ]
     },
     "execution_count": 107,
     "metadata": {},
     "output_type": "execute_result"
    }
   ],
   "source": [
    "dimension_fecha[\"día_del_año\"] = dimension_fecha[\"fecha\"].dt.day_of_year\n",
    "#dimension_fecha[\"día_del_mes\"] = dimension_fecha[\"fecha\"].dt.days_in_month\n",
    "#dimension_fecha[\"nombre_mes\"] = dimension_fecha[\"fecha\"].dt.month_name()\n",
    "dimension_fecha[\"nombre_mes\"] = dimension_fecha[\"fecha\"].dt.strftime('%B')\n",
    "dimension_fecha[\"nombre_día\"] = dimension_fecha[\"fecha\"].dt.day_name()\n",
    "dimension_fecha['nombre_día'] = dimension_fecha[\"nombre_día\"].replace({'Monday': 'lunes', 'Tuesday': 'martes', 'Wednesday': 'miércoles', 'Thursday': 'jueves', 'Friday': 'viernes', 'Saturday': 'sábado', 'Sunday': 'domingo'})\n",
    "#dimension_fecha[\"str_fecha\"] = dimension_fecha[\"fecha\"].dt.strftime(\"%d/%m/%Y\")\n",
    "\n",
    "dimension_fecha.head()"
   ]
  },
  {
   "cell_type": "code",
   "execution_count": 108,
   "metadata": {},
   "outputs": [
    {
     "data": {
      "text/html": [
       "<div>\n",
       "<style scoped>\n",
       "    .dataframe tbody tr th:only-of-type {\n",
       "        vertical-align: middle;\n",
       "    }\n",
       "\n",
       "    .dataframe tbody tr th {\n",
       "        vertical-align: top;\n",
       "    }\n",
       "\n",
       "    .dataframe thead th {\n",
       "        text-align: right;\n",
       "    }\n",
       "</style>\n",
       "<table border=\"1\" class=\"dataframe\">\n",
       "  <thead>\n",
       "    <tr style=\"text-align: right;\">\n",
       "      <th></th>\n",
       "      <th>fecha</th>\n",
       "      <th>hora</th>\n",
       "      <th>día</th>\n",
       "      <th>mes</th>\n",
       "      <th>año</th>\n",
       "      <th>día_semana</th>\n",
       "      <th>trimestre</th>\n",
       "      <th>día_del_año</th>\n",
       "      <th>nombre_mes</th>\n",
       "      <th>nombre_día</th>\n",
       "      <th>es_festivo</th>\n",
       "      <th>festivo</th>\n",
       "      <th>fin_de_semana</th>\n",
       "    </tr>\n",
       "    <tr>\n",
       "      <th>id</th>\n",
       "      <th></th>\n",
       "      <th></th>\n",
       "      <th></th>\n",
       "      <th></th>\n",
       "      <th></th>\n",
       "      <th></th>\n",
       "      <th></th>\n",
       "      <th></th>\n",
       "      <th></th>\n",
       "      <th></th>\n",
       "      <th></th>\n",
       "      <th></th>\n",
       "      <th></th>\n",
       "    </tr>\n",
       "  </thead>\n",
       "  <tbody>\n",
       "    <tr>\n",
       "      <th>0</th>\n",
       "      <td>2024-01-29</td>\n",
       "      <td>01:13:32</td>\n",
       "      <td>29</td>\n",
       "      <td>1</td>\n",
       "      <td>2024</td>\n",
       "      <td>0</td>\n",
       "      <td>1</td>\n",
       "      <td>29</td>\n",
       "      <td>enero</td>\n",
       "      <td>lunes</td>\n",
       "      <td>False</td>\n",
       "      <td>None</td>\n",
       "      <td>False</td>\n",
       "    </tr>\n",
       "    <tr>\n",
       "      <th>1</th>\n",
       "      <td>2024-01-30</td>\n",
       "      <td>18:45:12</td>\n",
       "      <td>30</td>\n",
       "      <td>1</td>\n",
       "      <td>2024</td>\n",
       "      <td>1</td>\n",
       "      <td>1</td>\n",
       "      <td>30</td>\n",
       "      <td>enero</td>\n",
       "      <td>martes</td>\n",
       "      <td>False</td>\n",
       "      <td>None</td>\n",
       "      <td>False</td>\n",
       "    </tr>\n",
       "    <tr>\n",
       "      <th>2</th>\n",
       "      <td>2024-02-06</td>\n",
       "      <td>11:34:04</td>\n",
       "      <td>6</td>\n",
       "      <td>2</td>\n",
       "      <td>2024</td>\n",
       "      <td>1</td>\n",
       "      <td>1</td>\n",
       "      <td>37</td>\n",
       "      <td>febrero</td>\n",
       "      <td>martes</td>\n",
       "      <td>False</td>\n",
       "      <td>None</td>\n",
       "      <td>False</td>\n",
       "    </tr>\n",
       "    <tr>\n",
       "      <th>3</th>\n",
       "      <td>2024-02-01</td>\n",
       "      <td>14:50:39</td>\n",
       "      <td>1</td>\n",
       "      <td>2</td>\n",
       "      <td>2024</td>\n",
       "      <td>3</td>\n",
       "      <td>1</td>\n",
       "      <td>32</td>\n",
       "      <td>febrero</td>\n",
       "      <td>jueves</td>\n",
       "      <td>False</td>\n",
       "      <td>None</td>\n",
       "      <td>False</td>\n",
       "    </tr>\n",
       "    <tr>\n",
       "      <th>4</th>\n",
       "      <td>2024-04-06</td>\n",
       "      <td>16:11:21</td>\n",
       "      <td>6</td>\n",
       "      <td>4</td>\n",
       "      <td>2024</td>\n",
       "      <td>5</td>\n",
       "      <td>2</td>\n",
       "      <td>97</td>\n",
       "      <td>abril</td>\n",
       "      <td>sábado</td>\n",
       "      <td>False</td>\n",
       "      <td>None</td>\n",
       "      <td>True</td>\n",
       "    </tr>\n",
       "  </tbody>\n",
       "</table>\n",
       "</div>"
      ],
      "text/plain": [
       "         fecha      hora  día  mes   año  día_semana  trimestre  día_del_año  \\\n",
       "id                                                                             \n",
       "0   2024-01-29  01:13:32   29    1  2024           0          1           29   \n",
       "1   2024-01-30  18:45:12   30    1  2024           1          1           30   \n",
       "2   2024-02-06  11:34:04    6    2  2024           1          1           37   \n",
       "3   2024-02-01  14:50:39    1    2  2024           3          1           32   \n",
       "4   2024-04-06  16:11:21    6    4  2024           5          2           97   \n",
       "\n",
       "   nombre_mes nombre_día  es_festivo festivo  fin_de_semana  \n",
       "id                                                           \n",
       "0       enero      lunes       False    None          False  \n",
       "1       enero     martes       False    None          False  \n",
       "2     febrero     martes       False    None          False  \n",
       "3     febrero     jueves       False    None          False  \n",
       "4       abril     sábado       False    None           True  "
      ]
     },
     "execution_count": 108,
     "metadata": {},
     "output_type": "execute_result"
    }
   ],
   "source": [
    "co_holidays = holidays.CO(language=\"es\")\n",
    "dimension_fecha[\"es_festivo\"] = dimension_fecha[\"fecha\"].apply(lambda x:  x in co_holidays)\n",
    "dimension_fecha[\"festivo\"] = dimension_fecha[\"fecha\"].apply(lambda x: co_holidays.get(x))\n",
    "dimension_fecha[\"fin_de_semana\"] = dimension_fecha[\"día_semana\"].apply(lambda x: x>4)\n",
    "dimension_fecha['fecha'] = dimension_fecha['fecha'].dt.date\n",
    "dimension_fecha.head()"
   ]
  },
  {
   "cell_type": "code",
   "execution_count": 109,
   "metadata": {},
   "outputs": [
    {
     "name": "stdout",
     "output_type": "stream",
     "text": [
      "Duplicados en dimension_fecha: 1599\n"
     ]
    }
   ],
   "source": [
    "dimension_fecha['fecha'] = pd.to_datetime(dimension_fecha['fecha']).dt.date\n",
    "dimension_fecha['hora'] = pd.to_datetime(dimension_fecha['hora'].astype(str).str.split('.').str[0], format='%H:%M:%S').dt.time\n",
    "\n",
    "# Revisar duplicados en dimension_fecha\n",
    "duplicados_fecha = dimension_fecha.duplicated(subset=['fecha', 'hora']).sum()\n",
    "print(\"Duplicados en dimension_fecha:\", duplicados_fecha)\n",
    "dimension_fecha.drop_duplicates(subset=['fecha', 'hora'], inplace=True)"
   ]
  },
  {
   "cell_type": "markdown",
   "metadata": {},
   "source": [
    "### Módulo de carga a la bodega de datos"
   ]
  },
  {
   "cell_type": "code",
   "execution_count": 110,
   "metadata": {},
   "outputs": [
    {
     "name": "stdout",
     "output_type": "stream",
     "text": [
      "Conexión establecida y consulta realizada con éxito.\n"
     ]
    }
   ],
   "source": [
    "try: # Realizar una consulta sencilla para verificar la conexión\n",
    "    # Ejecutar una consulta para obtener el nombre de las tablas\n",
    "    tables = pd.read_sql(\"SELECT table_name FROM information_schema.tables WHERE table_schema = 'public';\", olap_conn)\n",
    "    #print(tables)\n",
    "    print(\"Conexión establecida y consulta realizada con éxito.\")\n",
    "except Exception as e:\n",
    "    print(f\"Error al conectar a la base de datos: {e}\")"
   ]
  },
  {
   "cell_type": "code",
   "execution_count": 111,
   "metadata": {},
   "outputs": [],
   "source": [
    "try:\n",
    "  dimension_fecha.to_sql('dim_fecha', olap_conn, if_exists='replace')\n",
    "except Exception as e:\n",
    "  print(f\"Error al cargar datos: {e}\")"
   ]
  }
 ],
 "metadata": {
  "kernelspec": {
   "display_name": "myenv",
   "language": "python",
   "name": "python3"
  },
  "language_info": {
   "codemirror_mode": {
    "name": "ipython",
    "version": 3
   },
   "file_extension": ".py",
   "mimetype": "text/x-python",
   "name": "python",
   "nbconvert_exporter": "python",
   "pygments_lexer": "ipython3",
   "version": "3.12.6"
  }
 },
 "nbformat": 4,
 "nbformat_minor": 2
}
