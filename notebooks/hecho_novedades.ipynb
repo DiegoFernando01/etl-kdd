{
 "cells": [
  {
   "cell_type": "markdown",
   "metadata": {},
   "source": [
    "# Hecho novedades"
   ]
  },
  {
   "cell_type": "code",
   "execution_count": 1,
   "metadata": {},
   "outputs": [],
   "source": [
    "from datetime import date\n",
    "from sqlalchemy import create_engine\n",
    "import pandas as pd\n",
    "import numpy as np\n",
    "import holidays\n",
    "import yaml"
   ]
  },
  {
   "cell_type": "markdown",
   "metadata": {},
   "source": [
    "### Conexión con la base de datos"
   ]
  },
  {
   "cell_type": "code",
   "execution_count": 2,
   "metadata": {},
   "outputs": [],
   "source": [
    "with open('../config.yml', 'r') as f:\n",
    "  config = yaml.safe_load(f)\n",
    "  config_oltp = config['fuente']\n",
    "  config_olap = config['bodega']\n",
    "\n",
    "url_oltp = (f\"{config_oltp['drivername']}://{config_oltp['user']}:{config_oltp['password']}@{config_oltp['host']}:\"f\"{config_oltp['port']}/{config_oltp['dbname']}\")\n",
    "url_olap = (f\"{config_olap['drivername']}://{config_olap['user']}:{config_olap['password']}@{config_olap['host']}:\"f\"{config_olap['port']}/{config_olap['dbname']}\")\n",
    "#print(url_oltp)\n",
    "#print(url_olap)\n",
    "oltp_conn = create_engine(url_oltp)\n",
    "olap_conn = create_engine(url_olap)"
   ]
  },
  {
   "cell_type": "markdown",
   "metadata": {},
   "source": [
    "### Módulo de extracción"
   ]
  },
  {
   "cell_type": "code",
   "execution_count": 3,
   "metadata": {},
   "outputs": [
    {
     "data": {
      "text/html": [
       "<div>\n",
       "<style scoped>\n",
       "    .dataframe tbody tr th:only-of-type {\n",
       "        vertical-align: middle;\n",
       "    }\n",
       "\n",
       "    .dataframe tbody tr th {\n",
       "        vertical-align: top;\n",
       "    }\n",
       "\n",
       "    .dataframe thead th {\n",
       "        text-align: right;\n",
       "    }\n",
       "</style>\n",
       "<table border=\"1\" class=\"dataframe\">\n",
       "  <thead>\n",
       "    <tr style=\"text-align: right;\">\n",
       "      <th></th>\n",
       "      <th>id</th>\n",
       "      <th>nombre</th>\n",
       "    </tr>\n",
       "  </thead>\n",
       "  <tbody>\n",
       "    <tr>\n",
       "      <th>0</th>\n",
       "      <td>2</td>\n",
       "      <td>No puedo continuar</td>\n",
       "    </tr>\n",
       "    <tr>\n",
       "      <th>1</th>\n",
       "      <td>1</td>\n",
       "      <td>Novedades del servicio</td>\n",
       "    </tr>\n",
       "  </tbody>\n",
       "</table>\n",
       "</div>"
      ],
      "text/plain": [
       "   id                  nombre\n",
       "0   2      No puedo continuar\n",
       "1   1  Novedades del servicio"
      ]
     },
     "execution_count": 3,
     "metadata": {},
     "output_type": "execute_result"
    }
   ],
   "source": [
    "dimension_fecha = pd.read_sql_table('dim_fecha', olap_conn)\n",
    "dimension_mensajero = pd.read_sql_table('dim_mensajero', olap_conn)\n",
    "tabla_novedadesservicio = pd.read_sql_table('mensajeria_novedadesservicio', oltp_conn)\n",
    "tabla_tipo_novedades = pd.read_sql_table('mensajeria_tiponovedad', oltp_conn)\n",
    "tabla_tipo_novedades"
   ]
  },
  {
   "cell_type": "markdown",
   "metadata": {},
   "source": [
    "### Módulo de transformación"
   ]
  },
  {
   "cell_type": "code",
   "execution_count": 4,
   "metadata": {},
   "outputs": [
    {
     "data": {
      "text/html": [
       "<div>\n",
       "<style scoped>\n",
       "    .dataframe tbody tr th:only-of-type {\n",
       "        vertical-align: middle;\n",
       "    }\n",
       "\n",
       "    .dataframe tbody tr th {\n",
       "        vertical-align: top;\n",
       "    }\n",
       "\n",
       "    .dataframe thead th {\n",
       "        text-align: right;\n",
       "    }\n",
       "</style>\n",
       "<table border=\"1\" class=\"dataframe\">\n",
       "  <thead>\n",
       "    <tr style=\"text-align: right;\">\n",
       "      <th></th>\n",
       "      <th>id_fecha</th>\n",
       "      <th>num_novedad_1</th>\n",
       "      <th>num_novedad_2</th>\n",
       "      <th>total_novedades</th>\n",
       "    </tr>\n",
       "  </thead>\n",
       "  <tbody>\n",
       "    <tr>\n",
       "      <th>0</th>\n",
       "      <td>128402</td>\n",
       "      <td>6</td>\n",
       "      <td>3</td>\n",
       "      <td>9</td>\n",
       "    </tr>\n",
       "    <tr>\n",
       "      <th>1</th>\n",
       "      <td>128411</td>\n",
       "      <td>2</td>\n",
       "      <td>1</td>\n",
       "      <td>3</td>\n",
       "    </tr>\n",
       "    <tr>\n",
       "      <th>2</th>\n",
       "      <td>128414</td>\n",
       "      <td>0</td>\n",
       "      <td>1</td>\n",
       "      <td>1</td>\n",
       "    </tr>\n",
       "    <tr>\n",
       "      <th>3</th>\n",
       "      <td>128415</td>\n",
       "      <td>1</td>\n",
       "      <td>3</td>\n",
       "      <td>4</td>\n",
       "    </tr>\n",
       "    <tr>\n",
       "      <th>4</th>\n",
       "      <td>128419</td>\n",
       "      <td>2</td>\n",
       "      <td>1</td>\n",
       "      <td>3</td>\n",
       "    </tr>\n",
       "    <tr>\n",
       "      <th>...</th>\n",
       "      <td>...</td>\n",
       "      <td>...</td>\n",
       "      <td>...</td>\n",
       "      <td>...</td>\n",
       "    </tr>\n",
       "    <tr>\n",
       "      <th>198</th>\n",
       "      <td>133370</td>\n",
       "      <td>62</td>\n",
       "      <td>8</td>\n",
       "      <td>70</td>\n",
       "    </tr>\n",
       "    <tr>\n",
       "      <th>199</th>\n",
       "      <td>133440</td>\n",
       "      <td>19</td>\n",
       "      <td>6</td>\n",
       "      <td>25</td>\n",
       "    </tr>\n",
       "    <tr>\n",
       "      <th>200</th>\n",
       "      <td>133465</td>\n",
       "      <td>70</td>\n",
       "      <td>10</td>\n",
       "      <td>80</td>\n",
       "    </tr>\n",
       "    <tr>\n",
       "      <th>201</th>\n",
       "      <td>133545</td>\n",
       "      <td>41</td>\n",
       "      <td>9</td>\n",
       "      <td>50</td>\n",
       "    </tr>\n",
       "    <tr>\n",
       "      <th>202</th>\n",
       "      <td>133595</td>\n",
       "      <td>7</td>\n",
       "      <td>8</td>\n",
       "      <td>15</td>\n",
       "    </tr>\n",
       "  </tbody>\n",
       "</table>\n",
       "<p>203 rows × 4 columns</p>\n",
       "</div>"
      ],
      "text/plain": [
       "     id_fecha  num_novedad_1  num_novedad_2  total_novedades\n",
       "0      128402              6              3                9\n",
       "1      128411              2              1                3\n",
       "2      128414              0              1                1\n",
       "3      128415              1              3                4\n",
       "4      128419              2              1                3\n",
       "..        ...            ...            ...              ...\n",
       "198    133370             62              8               70\n",
       "199    133440             19              6               25\n",
       "200    133465             70             10               80\n",
       "201    133545             41              9               50\n",
       "202    133595              7              8               15\n",
       "\n",
       "[203 rows x 4 columns]"
      ]
     },
     "execution_count": 4,
     "metadata": {},
     "output_type": "execute_result"
    }
   ],
   "source": [
    "tabla_tipo_novedades.sort_values(by=['id'], inplace=True)\n",
    "tabla_novedadesservicio['fecha'] = pd.to_datetime(tabla_novedadesservicio['fecha_novedad'].dt.date)\n",
    "tabla_novedadesservicio['hora'] = pd.to_datetime(tabla_novedadesservicio['fecha_novedad'].dt.time.astype(str).str.split('.').str[0], format='%H:%M:%S').dt.time\n",
    "#El desface de las horas es por la zona horaria, por eso no concuerdan directamente con tabla_novedadesservicio\n",
    "\n",
    "hecho_novedades = (pd.merge(\n",
    "  tabla_novedadesservicio[['fecha', 'hora', 'tipo_novedad_id']], \n",
    "  dimension_fecha[['fecha', 'hora', 'id']], # Podría agregar el cliente con el servicio_id\n",
    "  how='left', \n",
    "  on=['fecha', 'hora'])\n",
    "  .drop(columns=['hora'])\n",
    "  .rename(columns={'id': 'id_fecha'}))\n",
    "\n",
    "conteo_novedades = {}\n",
    "\n",
    "for tipo_id in tabla_tipo_novedades['id']: # genera todas las llaves con la dimensión fecha \n",
    "  conteo_novedades[f'num_novedad_{tipo_id}'] = (hecho_novedades[hecho_novedades['tipo_novedad_id'] == tipo_id]\n",
    "    .groupby('fecha')['tipo_novedad_id']\n",
    "    .count())\n",
    "\n",
    "# conteo total por tipo novedad\n",
    "conteo_novedades = pd.DataFrame(conteo_novedades).fillna(0).astype(int)\n",
    "# num_novedades como la suma de los conteos por tipo\n",
    "conteo_novedades['total_novedades'] = conteo_novedades.sum(axis=1)\n",
    "\n",
    "hecho_novedades = (hecho_novedades.merge(conteo_novedades, on='fecha', how='left')\n",
    "  .drop_duplicates(subset=['fecha'])\n",
    "  .drop(columns=['fecha', 'tipo_novedad_id'])\n",
    "  .reset_index(drop=True))\n",
    "\n",
    "hecho_novedades\n",
    "#hecho_novedades.shape[0]"
   ]
  },
  {
   "cell_type": "markdown",
   "metadata": {},
   "source": [
    "### Módulo de carga a la bodega de datos"
   ]
  },
  {
   "cell_type": "code",
   "execution_count": 5,
   "metadata": {},
   "outputs": [
    {
     "name": "stdout",
     "output_type": "stream",
     "text": [
      "Conexión establecida y consulta realizada con éxito.\n"
     ]
    }
   ],
   "source": [
    "try: # Realizar una consulta sencilla para verificar la conexión\n",
    "    # Ejecutar una consulta para obtener el nombre de las tablas\n",
    "    tables = pd.read_sql(\"SELECT table_name FROM information_schema.tables WHERE table_schema = 'public';\", olap_conn)\n",
    "    #print(tables)\n",
    "    print(\"Conexión establecida y consulta realizada con éxito.\")\n",
    "except Exception as e:\n",
    "    print(f\"Error al conectar a la base de datos: {e}\")"
   ]
  },
  {
   "cell_type": "code",
   "execution_count": 6,
   "metadata": {},
   "outputs": [],
   "source": [
    "try:\n",
    "  hecho_novedades.to_sql('hecho_novedades', olap_conn, if_exists='replace', index_label='id')\n",
    "except Exception as e:\n",
    "  print(f\"Error al cargar datos: {e}\")"
   ]
  }
 ],
 "metadata": {
  "kernelspec": {
   "display_name": "myenv",
   "language": "python",
   "name": "python3"
  },
  "language_info": {
   "codemirror_mode": {
    "name": "ipython",
    "version": 3
   },
   "file_extension": ".py",
   "mimetype": "text/x-python",
   "name": "python",
   "nbconvert_exporter": "python",
   "pygments_lexer": "ipython3",
   "version": "3.12.6"
  }
 },
 "nbformat": 4,
 "nbformat_minor": 2
}
