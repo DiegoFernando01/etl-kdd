{
 "cells": [
  {
   "cell_type": "markdown",
   "metadata": {},
   "source": [
    "# Dimensión cliente"
   ]
  },
  {
   "cell_type": "code",
   "execution_count": 30,
   "metadata": {},
   "outputs": [],
   "source": [
    "from datetime import date\n",
    "from sqlalchemy import create_engine\n",
    "import pandas as pd\n",
    "import numpy as np\n",
    "import holidays\n",
    "import yaml"
   ]
  },
  {
   "cell_type": "markdown",
   "metadata": {},
   "source": [
    "### Conexión con la base de datos"
   ]
  },
  {
   "cell_type": "code",
   "execution_count": 31,
   "metadata": {},
   "outputs": [],
   "source": [
    "with open('../config.yml', 'r') as f:\n",
    "  config = yaml.safe_load(f)\n",
    "  config_oltp = config['fuente']\n",
    "  config_olap = config['bodega']\n",
    "\n",
    "url_oltp = (f\"{config_oltp['drivername']}://{config_oltp['user']}:{config_oltp['password']}@{config_oltp['host']}:\"f\"{config_oltp['port']}/{config_oltp['dbname']}\")\n",
    "url_olap = (f\"{config_olap['drivername']}://{config_olap['user']}:{config_olap['password']}@{config_olap['host']}:\"f\"{config_olap['port']}/{config_olap['dbname']}\")\n",
    "#print(url_oltp)\n",
    "#print(url_olap)\n",
    "oltp_conn = create_engine(url_oltp)\n",
    "olap_conn = create_engine(url_olap)"
   ]
  },
  {
   "cell_type": "markdown",
   "metadata": {},
   "source": [
    "### Módulo de extracción"
   ]
  },
  {
   "cell_type": "code",
   "execution_count": 32,
   "metadata": {},
   "outputs": [
    {
     "data": {
      "text/html": [
       "<div>\n",
       "<style scoped>\n",
       "    .dataframe tbody tr th:only-of-type {\n",
       "        vertical-align: middle;\n",
       "    }\n",
       "\n",
       "    .dataframe tbody tr th {\n",
       "        vertical-align: top;\n",
       "    }\n",
       "\n",
       "    .dataframe thead th {\n",
       "        text-align: right;\n",
       "    }\n",
       "</style>\n",
       "<table border=\"1\" class=\"dataframe\">\n",
       "  <thead>\n",
       "    <tr style=\"text-align: right;\">\n",
       "      <th></th>\n",
       "      <th>ciudad_id</th>\n",
       "      <th>nombre</th>\n",
       "      <th>departamento_id</th>\n",
       "    </tr>\n",
       "  </thead>\n",
       "  <tbody>\n",
       "    <tr>\n",
       "      <th>0</th>\n",
       "      <td>6</td>\n",
       "      <td>BUGA</td>\n",
       "      <td>1</td>\n",
       "    </tr>\n",
       "    <tr>\n",
       "      <th>1</th>\n",
       "      <td>5</td>\n",
       "      <td>BOGOTA</td>\n",
       "      <td>2</td>\n",
       "    </tr>\n",
       "    <tr>\n",
       "      <th>2</th>\n",
       "      <td>4</td>\n",
       "      <td>PASTO</td>\n",
       "      <td>4</td>\n",
       "    </tr>\n",
       "    <tr>\n",
       "      <th>3</th>\n",
       "      <td>3</td>\n",
       "      <td>POPAYAN</td>\n",
       "      <td>3</td>\n",
       "    </tr>\n",
       "    <tr>\n",
       "      <th>4</th>\n",
       "      <td>2</td>\n",
       "      <td>PALMIRA</td>\n",
       "      <td>1</td>\n",
       "    </tr>\n",
       "  </tbody>\n",
       "</table>\n",
       "</div>"
      ],
      "text/plain": [
       "   ciudad_id   nombre  departamento_id\n",
       "0          6     BUGA                1\n",
       "1          5   BOGOTA                2\n",
       "2          4    PASTO                4\n",
       "3          3  POPAYAN                3\n",
       "4          2  PALMIRA                1"
      ]
     },
     "execution_count": 32,
     "metadata": {},
     "output_type": "execute_result"
    }
   ],
   "source": [
    "dimension_cliente = pd.read_sql_table('cliente', oltp_conn)\n",
    "table_ciudad = pd.read_sql_table('ciudad', oltp_conn)\n",
    "table_departamento = pd.read_sql_table('departamento', oltp_conn)\n",
    "table_tipo_cliente = pd.read_sql_table('tipo_cliente', oltp_conn)\n",
    "\n",
    "table_ciudad.head()"
   ]
  },
  {
   "cell_type": "markdown",
   "metadata": {},
   "source": [
    "### Módulo de transformación"
   ]
  },
  {
   "cell_type": "code",
   "execution_count": 33,
   "metadata": {},
   "outputs": [
    {
     "data": {
      "text/html": [
       "<div>\n",
       "<style scoped>\n",
       "    .dataframe tbody tr th:only-of-type {\n",
       "        vertical-align: middle;\n",
       "    }\n",
       "\n",
       "    .dataframe tbody tr th {\n",
       "        vertical-align: top;\n",
       "    }\n",
       "\n",
       "    .dataframe thead th {\n",
       "        text-align: right;\n",
       "    }\n",
       "</style>\n",
       "<table border=\"1\" class=\"dataframe\">\n",
       "  <thead>\n",
       "    <tr style=\"text-align: right;\">\n",
       "      <th></th>\n",
       "      <th>cliente_id</th>\n",
       "      <th>nit_cliente</th>\n",
       "      <th>nombre</th>\n",
       "      <th>email</th>\n",
       "      <th>direccion</th>\n",
       "      <th>telefono</th>\n",
       "      <th>nombre_contacto</th>\n",
       "      <th>sector</th>\n",
       "      <th>ciudad</th>\n",
       "      <th>departamento</th>\n",
       "      <th>tipo_cliente</th>\n",
       "    </tr>\n",
       "  </thead>\n",
       "  <tbody>\n",
       "    <tr>\n",
       "      <th>0</th>\n",
       "      <td>1</td>\n",
       "      <td>25</td>\n",
       "      <td>Cliente 2</td>\n",
       "      <td>algo.com</td>\n",
       "      <td>Calle 100 No 25-18</td>\n",
       "      <td>327-00000</td>\n",
       "      <td>Cristiano Ronaldo</td>\n",
       "      <td>S</td>\n",
       "      <td>CALI</td>\n",
       "      <td>VALLE DEL CAUCA</td>\n",
       "      <td>Persona Juridica</td>\n",
       "    </tr>\n",
       "    <tr>\n",
       "      <th>1</th>\n",
       "      <td>2</td>\n",
       "      <td>123</td>\n",
       "      <td>Cliente 1</td>\n",
       "      <td>algo.com</td>\n",
       "      <td>Calle 100 No 25-18</td>\n",
       "      <td>327-00000</td>\n",
       "      <td>Cristiano Ronaldo</td>\n",
       "      <td>industrial</td>\n",
       "      <td>CALI</td>\n",
       "      <td>VALLE DEL CAUCA</td>\n",
       "      <td>Persona Juridica</td>\n",
       "    </tr>\n",
       "    <tr>\n",
       "      <th>2</th>\n",
       "      <td>6</td>\n",
       "      <td>24390-3</td>\n",
       "      <td>CLINICA  DEPORTIVA DEL SUR</td>\n",
       "      <td>algo.com</td>\n",
       "      <td>Calle 100 No 25-18</td>\n",
       "      <td>327-00000</td>\n",
       "      <td>Cristiano Ronaldo</td>\n",
       "      <td>salud</td>\n",
       "      <td>CALI</td>\n",
       "      <td>VALLE DEL CAUCA</td>\n",
       "      <td>Persona Juridica</td>\n",
       "    </tr>\n",
       "    <tr>\n",
       "      <th>3</th>\n",
       "      <td>19</td>\n",
       "      <td>8301821</td>\n",
       "      <td>HOSPITAL ORTOPEDICO DE COLOMBIA</td>\n",
       "      <td>algo.com</td>\n",
       "      <td>Calle 100 No 25-18</td>\n",
       "      <td>327-00000</td>\n",
       "      <td>Cristiano Ronaldo</td>\n",
       "      <td>salud</td>\n",
       "      <td>CALI</td>\n",
       "      <td>VALLE DEL CAUCA</td>\n",
       "      <td>Persona Juridica</td>\n",
       "    </tr>\n",
       "    <tr>\n",
       "      <th>4</th>\n",
       "      <td>8</td>\n",
       "      <td>5017350-8</td>\n",
       "      <td>CLINICA NEFROLOGOS  DE CALI</td>\n",
       "      <td>algo.com</td>\n",
       "      <td>Calle 100 No 25-18</td>\n",
       "      <td>327-00000</td>\n",
       "      <td>Cristiano Ronaldo</td>\n",
       "      <td>salud</td>\n",
       "      <td>CALI</td>\n",
       "      <td>VALLE DEL CAUCA</td>\n",
       "      <td>Persona Juridica</td>\n",
       "    </tr>\n",
       "  </tbody>\n",
       "</table>\n",
       "</div>"
      ],
      "text/plain": [
       "   cliente_id nit_cliente                           nombre     email  \\\n",
       "0           1          25                        Cliente 2  algo.com   \n",
       "1           2         123                        Cliente 1  algo.com   \n",
       "2           6     24390-3       CLINICA  DEPORTIVA DEL SUR  algo.com   \n",
       "3          19     8301821  HOSPITAL ORTOPEDICO DE COLOMBIA  algo.com   \n",
       "4           8   5017350-8      CLINICA NEFROLOGOS  DE CALI  algo.com   \n",
       "\n",
       "            direccion   telefono    nombre_contacto      sector ciudad  \\\n",
       "0  Calle 100 No 25-18  327-00000  Cristiano Ronaldo           S   CALI   \n",
       "1  Calle 100 No 25-18  327-00000  Cristiano Ronaldo  industrial   CALI   \n",
       "2  Calle 100 No 25-18  327-00000  Cristiano Ronaldo       salud   CALI   \n",
       "3  Calle 100 No 25-18  327-00000  Cristiano Ronaldo       salud   CALI   \n",
       "4  Calle 100 No 25-18  327-00000  Cristiano Ronaldo       salud   CALI   \n",
       "\n",
       "      departamento      tipo_cliente  \n",
       "0  VALLE DEL CAUCA  Persona Juridica  \n",
       "1  VALLE DEL CAUCA  Persona Juridica  \n",
       "2  VALLE DEL CAUCA  Persona Juridica  \n",
       "3  VALLE DEL CAUCA  Persona Juridica  \n",
       "4  VALLE DEL CAUCA  Persona Juridica  "
      ]
     },
     "execution_count": 33,
     "metadata": {},
     "output_type": "execute_result"
    }
   ],
   "source": [
    "table_departamento = table_departamento.rename(columns={'nombre' : 'departamento'})\n",
    "table_ciudad = (pd.merge(table_ciudad.rename(columns={'nombre' : 'ciudad'}), table_departamento, how='inner')\n",
    "  .drop(columns=['departamento_id']))\n",
    "table_tipo_cliente = (table_tipo_cliente.drop(columns=['descripcion']).rename(columns={'nombre': 'tipo_cliente'}))\n",
    "\n",
    "dimension_cliente = pd.merge(dimension_cliente, table_ciudad, how='inner')\n",
    "dimension_cliente = (pd.merge(dimension_cliente, table_tipo_cliente, how='inner')\n",
    "  .drop(columns=['ciudad_id', 'tipo_cliente_id', 'coordinador_id', 'activo']))\n",
    "\n",
    "dimension_cliente.head()"
   ]
  },
  {
   "cell_type": "markdown",
   "metadata": {},
   "source": [
    "### Módulo de carga a la bodega de datos"
   ]
  },
  {
   "cell_type": "code",
   "execution_count": 34,
   "metadata": {},
   "outputs": [],
   "source": [
    "dimension_cliente.set_index('cliente_id', inplace=True)\n",
    "try:\n",
    "  dimension_cliente.to_sql('dim_cliente', olap_conn, if_exists='replace')\n",
    "except Exception as e:\n",
    "  print(f\"Error al cargar datos: {e}\")"
   ]
  }
 ],
 "metadata": {
  "kernelspec": {
   "display_name": "myenv",
   "language": "python",
   "name": "python3"
  },
  "language_info": {
   "codemirror_mode": {
    "name": "ipython",
    "version": 3
   },
   "file_extension": ".py",
   "mimetype": "text/x-python",
   "name": "python",
   "nbconvert_exporter": "python",
   "pygments_lexer": "ipython3",
   "version": "3.12.6"
  }
 },
 "nbformat": 4,
 "nbformat_minor": 2
}
